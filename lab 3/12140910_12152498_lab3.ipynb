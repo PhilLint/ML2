{
 "cells": [
  {
   "cell_type": "markdown",
   "metadata": {
    "deletable": false,
    "editable": false,
    "nbgrader": {
     "cell_type": "markdown",
     "checksum": "29b72b5f8cb2ce33aa81c939b8d2138c",
     "grade": false,
     "grade_id": "cell-02487845739eb4fd",
     "locked": true,
     "schema_version": 3,
     "solution": false
    }
   },
   "source": [
    "### Lab 3: Expectation Maximization and Variational Autoencoder\n",
    "\n",
    "### Machine Learning 2 (2019)\n",
    "\n",
    "* The lab exercises can be done in groups of two people, or individually.\n",
    "* The deadline is Tuesday, October 15th at 17:00.\n",
    "* Assignment should be submitted through Canvas! Make sure to include your and your teammates' names with the submission.\n",
    "* Attach the .IPYNB (IPython Notebook) file containing your code and answers. Naming of the file should be \"studentid1\\_studentid2\\_lab#\", for example, the attached file should be \"12345\\_12346\\_lab1.ipynb\". Only use underscores (\"\\_\") to connect ids, otherwise the files cannot be parsed.\n",
    "\n",
    "Notes on implementation:\n",
    "\n",
    "* You should write your code and answers in an IPython Notebook: http://ipython.org/notebook.html. If you have problems, please ask.\n",
    "* Use __one cell__ for code and markdown answers only!\n",
    "    * Put all code in the cell with the ```# YOUR CODE HERE``` comment and overwrite the ```raise NotImplementedError()``` line.\n",
    "    * For theoretical questions, put your solution using LaTeX style formatting in the YOUR ANSWER HERE cell.\n",
    "* Among the first lines of your notebook should be \"%pylab inline\". This imports all required modules, and your plots will appear inline.\n",
    "* Large parts of you notebook will be graded automatically. Therefore it is important that your notebook can be run completely without errors and within a reasonable time limit. To test your notebook before submission, select Kernel -> Restart \\& Run All.\n",
    "$\\newcommand{\\bx}{\\mathbf{x}} \\newcommand{\\bpi}{\\mathbf{\\pi}} \\newcommand{\\bmu}{\\mathbf{\\mu}} \\newcommand{\\bX}{\\mathbf{X}} \\newcommand{\\bZ}{\\mathbf{Z}} \\newcommand{\\bz}{\\mathbf{z}}$"
   ]
  },
  {
   "cell_type": "markdown",
   "metadata": {
    "deletable": false,
    "editable": false,
    "nbgrader": {
     "cell_type": "markdown",
     "checksum": "e4e05229ee79b55d6589e1ea8de68f32",
     "grade": false,
     "grade_id": "cell-a0a6fdb7ca694bee",
     "locked": true,
     "schema_version": 3,
     "solution": false
    }
   },
   "source": [
    "### Installing PyTorch\n",
    "\n",
    "In this lab we will use PyTorch. PyTorch is an open source deep learning framework primarily developed by Facebook's artificial-intelligence research group. In order to install PyTorch in your conda environment go to https://pytorch.org and select your operating system, conda, Python 3.6, no cuda. Copy the text from the \"Run this command:\" box. Now open a terminal and activate your 'ml2labs' conda environment. Paste the text and run. After the installation is done you should restart Jupyter."
   ]
  },
  {
   "cell_type": "markdown",
   "metadata": {
    "deletable": false,
    "editable": false,
    "nbgrader": {
     "cell_type": "markdown",
     "checksum": "d9c3d77f550b5fd93b34fd18825c47f0",
     "grade": false,
     "grade_id": "cell-746cac8d9a21943b",
     "locked": true,
     "schema_version": 3,
     "solution": false
    }
   },
   "source": [
    "### MNIST data\n",
    "\n",
    "In this Lab we will use several methods for unsupervised learning on the MNIST dataset of written digits. The dataset contains digital images of handwritten numbers $0$ through $9$. Each image has 28x28 pixels that each take 256 values in a range from white ($= 0$) to  black ($=1$). The labels belonging to the images are also included. \n",
    "Fortunately, PyTorch comes with a MNIST data loader. The first time you run the box below it will download the MNIST data set. That can take a couple of minutes.\n",
    "The main data types in PyTorch are tensors. For Part 1, we will convert those tensors to numpy arrays. In Part 2, we will use the torch module to directly work with PyTorch tensors."
   ]
  },
  {
   "cell_type": "code",
   "execution_count": 1,
   "metadata": {
    "deletable": false,
    "editable": false,
    "nbgrader": {
     "cell_type": "code",
     "checksum": "4fbc152afa1255331d7b88bf00b7156c",
     "grade": false,
     "grade_id": "cell-7c995be0fda080c0",
     "locked": true,
     "schema_version": 3,
     "solution": false
    }
   },
   "outputs": [
    {
     "name": "stdout",
     "output_type": "stream",
     "text": [
      "Populating the interactive namespace from numpy and matplotlib\n"
     ]
    },
    {
     "name": "stderr",
     "output_type": "stream",
     "text": [
      "C:\\Users\\lintl\\Anaconda3\\envs\\rl2019\\lib\\site-packages\\torchvision\\datasets\\mnist.py:43: UserWarning: train_labels has been renamed targets\n",
      "  warnings.warn(\"train_labels has been renamed targets\")\n",
      "C:\\Users\\lintl\\Anaconda3\\envs\\rl2019\\lib\\site-packages\\torchvision\\datasets\\mnist.py:53: UserWarning: train_data has been renamed data\n",
      "  warnings.warn(\"train_data has been renamed data\")\n"
     ]
    }
   ],
   "source": [
    "%pylab inline\n",
    "import torch\n",
    "from torchvision import datasets, transforms\n",
    "\n",
    "train_dataset = datasets.MNIST('../data', train=True, download=True,\n",
    "                   transform=transforms.Compose([\n",
    "                       transforms.ToTensor(),\n",
    "                       transforms.Normalize((0.1307,), (0.3081,))\n",
    "                   ]))\n",
    "\n",
    "train_labels = train_dataset.train_labels.numpy()\n",
    "train_data = train_dataset.train_data.numpy()\n",
    "# For EM we will use flattened data\n",
    "train_data = train_data.reshape(train_data.shape[0], -1)\n"
   ]
  },
  {
   "cell_type": "markdown",
   "metadata": {
    "deletable": false,
    "editable": false,
    "nbgrader": {
     "cell_type": "markdown",
     "checksum": "4fc852f9bfb0bab10d4c23eada309e89",
     "grade": false,
     "grade_id": "cell-8b4a44df532b1867",
     "locked": true,
     "schema_version": 3,
     "solution": false
    }
   },
   "source": [
    "## Part 1: Expectation Maximization\n",
    "We will use the Expectation Maximization (EM) algorithm for the recognition of handwritten digits in the MNIST dataset. The images are modelled as a Bernoulli mixture model (see Bishop $\\S9.3.3$):\n",
    "$$\n",
    "p(\\bx|\\bmu, \\bpi) = \\sum_{k=1}^K  \\pi_k \\prod_{i=1}^D \\mu_{ki}^{x_i}(1-\\mu_{ki})^{(1-x_i)}\n",
    "$$\n",
    "where $x_i$ is the value of pixel $i$ in an image, $\\mu_{ki}$ represents the probability that pixel $i$ in class $k$ is black, and $\\{\\pi_1, \\ldots, \\pi_K\\}$ are the mixing coefficients of classes in the data. We want to use this data set to classify new images of handwritten numbers."
   ]
  },
  {
   "cell_type": "markdown",
   "metadata": {
    "deletable": false,
    "editable": false,
    "nbgrader": {
     "cell_type": "markdown",
     "checksum": "54064637b7e7cf938c0f778d748a226a",
     "grade": false,
     "grade_id": "cell-af03fef663aa85b2",
     "locked": true,
     "schema_version": 3,
     "solution": false
    }
   },
   "source": [
    "### 1.1 Binary data (5 points)\n",
    "As we like to apply our Bernoulli mixture model, write a function `binarize` to convert the (flattened) MNIST data to binary images, where each pixel $x_i \\in \\{0,1\\}$, by thresholding at an appropriate level."
   ]
  },
  {
   "cell_type": "code",
   "execution_count": 2,
   "metadata": {
    "deletable": false,
    "nbgrader": {
     "cell_type": "code",
     "checksum": "fe8607a4d734f7f26ef1ee1e54b33471",
     "grade": false,
     "grade_id": "cell-ec4365531ca57ef3",
     "locked": false,
     "schema_version": 3,
     "solution": true
    }
   },
   "outputs": [],
   "source": [
    "def binarize(X):\n",
    "    return (X > 128).astype(np.float)"
   ]
  },
  {
   "cell_type": "code",
   "execution_count": 3,
   "metadata": {
    "deletable": false,
    "editable": false,
    "nbgrader": {
     "cell_type": "code",
     "checksum": "231b2c9f29bc5c536c60cef4d74793a1",
     "grade": true,
     "grade_id": "cell-2f16f57cb68a83b3",
     "locked": true,
     "points": 5,
     "schema_version": 3,
     "solution": false
    }
   },
   "outputs": [],
   "source": [
    "# Test test test!\n",
    "bin_train_data = binarize(train_data)\n",
    "assert bin_train_data.dtype == np.float\n",
    "assert bin_train_data.shape == train_data.shape\n"
   ]
  },
  {
   "cell_type": "markdown",
   "metadata": {
    "deletable": false,
    "editable": false,
    "nbgrader": {
     "cell_type": "markdown",
     "checksum": "a0a39404cc2f67078b399ee34653a3ac",
     "grade": false,
     "grade_id": "cell-462e747685e8670f",
     "locked": true,
     "schema_version": 3,
     "solution": false
    }
   },
   "source": [
    "Sample a few images of digits $2$, $3$ and $4$; and show both the original and the binarized image together with their label."
   ]
  },
  {
   "cell_type": "code",
   "execution_count": 4,
   "metadata": {
    "deletable": false,
    "nbgrader": {
     "cell_type": "code",
     "checksum": "3f3c981f0fda5ba3bdfcefb9144305c7",
     "grade": true,
     "grade_id": "cell-784c6bd177a9aa42",
     "locked": false,
     "points": 5,
     "schema_version": 3,
     "solution": true
    }
   },
   "outputs": [
    {
     "data": {
      "image/png": "[encoded data removed]",
      "text/plain": [
       "<Figure size 1080x720 with 4 Axes>"
      ]
     },
     "metadata": {
      "needs_background": "light"
     },
     "output_type": "display_data"
    },
    {
     "data": {
      "image/png": "[encoded data removed]",
      "text/plain": [
       "<Figure size 1080x720 with 4 Axes>"
      ]
     },
     "metadata": {
      "needs_background": "light"
     },
     "output_type": "display_data"
    },
    {
     "data": {
      "image/png": "[encoded data removed]",
      "text/plain": [
       "<Figure size 1080x720 with 4 Axes>"
      ]
     },
     "metadata": {
      "needs_background": "light"
     },
     "output_type": "display_data"
    }
   ],
   "source": [
    "numbers = [2,3,4]\n",
    "\n",
    "def plot_image(number, images, labels, sample):\n",
    "    \n",
    "    index = np.where(labels == number)[0][sample]\n",
    "   \n",
    "    title = \"Digit\" + str(labels[index]) + \":\"\n",
    "    plt.imshow(images[index].reshape(28,28))\n",
    "    plt.title(title + \" Non Binarized\")\n",
    "\n",
    "def plot_bin_non_bin(numbers, train, train_labels, bin_train, sample):\n",
    "    \n",
    "    counter = 0\n",
    "    for i in range(len(numbers)):\n",
    "        fig = plt.figure(figsize=(15,10))\n",
    "\n",
    "        plt.subplot(341)\n",
    "        plot_image(numbers[i], train_data, train_labels, sample[0]) \n",
    "        plt.subplot(341 + 1)\n",
    "        plot_image(numbers[i], bin_train, train_labels, sample[0])\n",
    "        plt.subplot(341 + 2)\n",
    "        plot_image(numbers[i], train_data, train_labels, sample[1]) \n",
    "        plt.subplot(341 + 3)\n",
    "        plot_image(numbers[i], bin_train, train_labels, sample[1])\n",
    "        plt.show()\n",
    "\n",
    "plot_bin_non_bin(numbers, train_data, train_labels, bin_train_data, [3,4])"
   ]
  },
  {
   "cell_type": "markdown",
   "metadata": {
    "deletable": false,
    "editable": false,
    "nbgrader": {
     "cell_type": "markdown",
     "checksum": "4b9da574d24193df76e96ed8ca62c7b0",
     "grade": false,
     "grade_id": "cell-56b33654497d4052",
     "locked": true,
     "schema_version": 3,
     "solution": false
    }
   },
   "source": [
    "### 1.2 Implementation (40 points)\n",
    "You are going to write a function ```EM(X, K, max_iter)``` that implements the EM algorithm on the Bernoulli mixture model. \n",
    "\n",
    "The only parameters the function has are:\n",
    "* ```X``` :: (NxD) array of input training images\n",
    "* ```K``` :: size of the latent space\n",
    "* ```max_iter``` :: maximum number of iterations, i.e. one E-step and one M-step\n",
    "\n",
    "You are free to specify your return statement.\n",
    "\n",
    "Make sure you use a sensible way of terminating the iteration process early to prevent unnecessarily running through all epochs. Vectorize computations using ```numpy``` as  much as possible.\n",
    "\n",
    "You should implement the `E_step(X, mu, pi)` and `M_step(X, gamma)` separately in the functions defined below. These you can then use in your function `EM(X, K, max_iter)`."
   ]
  },
  {
   "cell_type": "code",
   "execution_count": 5,
   "metadata": {
    "deletable": false,
    "nbgrader": {
     "cell_type": "code",
     "checksum": "316c9131692747c363b5db8e9091d362",
     "grade": false,
     "grade_id": "cell-882b13c117a73cc4",
     "locked": false,
     "schema_version": 3,
     "solution": true
    }
   },
   "outputs": [],
   "source": [
    "def E_step(X, mu, pi):\n",
    "    # get dimensions of gamma\n",
    "    X_expand = np.expand_dims(X, axis=1)\n",
    "    \n",
    "    unnorm_gamma = pi * np.prod((mu ** X_expand) * ((1 - mu) ** (1 - X_expand)), axis=2)\n",
    "    \n",
    "    denominator = np.expand_dims(np.sum(unnorm_gamma, axis=1), axis=1)\n",
    "    \n",
    "    gamma = unnorm_gamma / denominator\n",
    "    return gamma"
   ]
  },
  {
   "cell_type": "code",
   "execution_count": 6,
   "metadata": {
    "deletable": false,
    "editable": false,
    "nbgrader": {
     "cell_type": "code",
     "checksum": "1418f4014e98024fc97446ce27766c1d",
     "grade": true,
     "grade_id": "cell-f7c7dd52d82e2498",
     "locked": true,
     "points": 15,
     "schema_version": 3,
     "solution": false
    }
   },
   "outputs": [],
   "source": [
    "# Let's test on 5 datapoints\n",
    "n_test = 5\n",
    "X_test = bin_train_data[:n_test]\n",
    "D_test, K_test = X_test.shape[1], 10\n",
    "\n",
    "np.random.seed(2018)\n",
    "mu_test = np.random.uniform(low=.25, high=.75, size=(K_test,D_test))\n",
    "pi_test = np.ones(K_test) / K_test\n",
    "\n",
    "gamma_test = E_step(X_test, mu_test, pi_test)\n",
    "assert gamma_test.shape == (n_test, K_test)\n"
   ]
  },
  {
   "cell_type": "code",
   "execution_count": 7,
   "metadata": {
    "deletable": false,
    "nbgrader": {
     "cell_type": "code",
     "checksum": "2c426a613653174795cd9c8327ab6e20",
     "grade": false,
     "grade_id": "cell-f1b11b8765bd1ef6",
     "locked": false,
     "schema_version": 3,
     "solution": true
    }
   },
   "outputs": [],
   "source": [
    "def M_step(X, gamma):\n",
    "    # we sum over the number of datapoints\n",
    "    N_k = gamma.sum(axis=0)\n",
    "        \n",
    "    # pi is the fraction of N_k over the total sum ofer N_k\n",
    "    pi = N_k / np.sum(N_k)\n",
    "    \n",
    "    # expanding with [None,:] and [:, None]\n",
    "    tmp_mu = gamma[None,:].T * X[None, :]\n",
    "    \n",
    "    # unnormalized mu\n",
    "    unnorm_mu = tmp_mu.sum(axis=1)\n",
    "    \n",
    "    # normalized mu\n",
    "    mu = unnorm_mu / N_k[:, None]\n",
    "        \n",
    "    return mu, pi"
   ]
  },
  {
   "cell_type": "code",
   "execution_count": 8,
   "metadata": {
    "deletable": false,
    "editable": false,
    "nbgrader": {
     "cell_type": "code",
     "checksum": "0f60d48b8b22063cef560b42944a0aa4",
     "grade": true,
     "grade_id": "cell-6e7c751b30acfd45",
     "locked": true,
     "points": 15,
     "schema_version": 3,
     "solution": false
    }
   },
   "outputs": [],
   "source": [
    "# Oh, let's test again\n",
    "mu_test, pi_test = M_step(X_test, gamma_test)\n",
    "\n",
    "assert mu_test.shape == (K_test,D_test)\n",
    "assert pi_test.shape == (K_test, )\n"
   ]
  },
  {
   "cell_type": "code",
   "execution_count": 9,
   "metadata": {
    "deletable": false,
    "nbgrader": {
     "cell_type": "code",
     "checksum": "acfec6384b058cb0ce1932006fbfebc4",
     "grade": true,
     "grade_id": "cell-d6c4368246dee7e6",
     "locked": false,
     "points": 10,
     "schema_version": 3,
     "solution": true
    }
   },
   "outputs": [],
   "source": [
    "def EM(X, K, max_iter, mu=None, pi=None):\n",
    "    # dimensions\n",
    "    N = X.shape[0]\n",
    "    D = X.shape[1]\n",
    "    \n",
    "    # parameter initialization\n",
    "    if mu is None:\n",
    "        mu = np.random.uniform(0.25, 0.75, (K,D))\n",
    "    if pi is None:\n",
    "        pi = np.ones(K) / K\n",
    "        \n",
    "    conv_crit = 1e-4\n",
    "    \n",
    "    for i in range(max_iter):\n",
    "        mu_old = mu\n",
    "        pi_old = pi\n",
    "        \n",
    "        gamma = E_step(X, mu, pi)\n",
    "        mu, pi = M_step(X, gamma)\n",
    "        \n",
    "        mu_update = np.linalg.norm(mu-mu_old)\n",
    "        pi_update = np.linalg.norm(pi-pi_old)\n",
    "        \n",
    "        print(\"Iteration: {}, delta_mu: {}, delta_pi: {}\".format(i, np.round(mu_update, 5),\n",
    "                                                                     np.round(pi_update, 5)))\n",
    "            \n",
    "        if mu_update < conv_crit and pi_update < conv_crit:\n",
    "            print(\"After iteration {}, convergence is reached\".format(i))\n",
    "            break\n",
    "            \n",
    "    return gamma, mu, pi           \n"
   ]
  },
  {
   "cell_type": "markdown",
   "metadata": {
    "deletable": false,
    "editable": false,
    "nbgrader": {
     "cell_type": "markdown",
     "checksum": "b4fc12faa0da660f7a4d9cc7deb41b25",
     "grade": false,
     "grade_id": "cell-e1077ed3b83489be",
     "locked": true,
     "schema_version": 3,
     "solution": false
    }
   },
   "source": [
    "### 1.3 Three digits experiment (10 points)\n",
    "In analogue with Bishop $\\S9.3.3$, sample a training set consisting of only __binary__ images of written digits $2$, $3$, and $4$. Run your EM algorithm and show the reconstructed digits."
   ]
  },
  {
   "cell_type": "code",
   "execution_count": 10,
   "metadata": {
    "deletable": false,
    "nbgrader": {
     "cell_type": "code",
     "checksum": "bdbce0fad0ed151063d4c489ce999e3e",
     "grade": true,
     "grade_id": "cell-477155d0264d7259",
     "locked": false,
     "points": 5,
     "schema_version": 3,
     "solution": true
    }
   },
   "outputs": [],
   "source": [
    "def plot_mu(mu):\n",
    "    \n",
    "    K = mu.shape[0]\n",
    "    fig, axes = plt.subplots(1, K, figsize=(15, 10))\n",
    "    \n",
    "    for k, ax in enumerate(axes):\n",
    "        ax.imshow(mu[k].reshape((28,28)))\n",
    "    plt.show()\n",
    "\n",
    "numbers = [2,3,4]\n",
    "max_iter = 100\n",
    "\n",
    "example_train_labels = train_labels[np.isin(train_labels, numbers)]\n",
    "example_trainbinary = bin_train_data[np.isin(train_labels, numbers), :]\n"
   ]
  },
  {
   "cell_type": "code",
   "execution_count": 11,
   "metadata": {},
   "outputs": [
    {
     "name": "stdout",
     "output_type": "stream",
     "text": [
      "Iteration: 0, delta_mu: 20.62302, delta_pi: 0.47597\n",
      "Iteration: 1, delta_mu: 2.69712, delta_pi: 0.16751\n",
      "Iteration: 2, delta_mu: 1.76431, delta_pi: 0.12087\n",
      "Iteration: 3, delta_mu: 1.19617, delta_pi: 0.11609\n",
      "Iteration: 4, delta_mu: 0.6832, delta_pi: 0.06307\n",
      "Iteration: 5, delta_mu: 0.23769, delta_pi: 0.01967\n",
      "Iteration: 6, delta_mu: 0.06954, delta_pi: 0.00507\n",
      "Iteration: 7, delta_mu: 0.02194, delta_pi: 0.00145\n",
      "Iteration: 8, delta_mu: 0.00868, delta_pi: 0.00052\n",
      "Iteration: 9, delta_mu: 0.00348, delta_pi: 0.00019\n",
      "Iteration: 10, delta_mu: 0.00165, delta_pi: 6e-05\n",
      "Iteration: 11, delta_mu: 0.00181, delta_pi: 8e-05\n",
      "Iteration: 12, delta_mu: 0.00072, delta_pi: 5e-05\n",
      "Iteration: 13, delta_mu: 0.00044, delta_pi: 3e-05\n",
      "Iteration: 14, delta_mu: 0.00095, delta_pi: 4e-05\n",
      "Iteration: 15, delta_mu: 0.0011, delta_pi: 5e-05\n",
      "Iteration: 16, delta_mu: 0.00022, delta_pi: 2e-05\n",
      "Iteration: 17, delta_mu: 9e-05, delta_pi: 1e-05\n",
      "After iteration 17, convergence is reached\n"
     ]
    }
   ],
   "source": [
    "gamma, mu, pi = EM(example_trainbinary, 3, 100)\n",
    "\n",
    "#show_mu(mu_3)"
   ]
  },
  {
   "cell_type": "code",
   "execution_count": 12,
   "metadata": {},
   "outputs": [
    {
     "data": {
      "image/png": "[encoded data removed]",
      "text/plain": [
       "<Figure size 1080x720 with 3 Axes>"
      ]
     },
     "metadata": {
      "needs_background": "light"
     },
     "output_type": "display_data"
    },
    {
     "name": "stdout",
     "output_type": "stream",
     "text": [
      "Mixing coefficients: [0.347081   0.31965691 0.33326209]\n"
     ]
    }
   ],
   "source": [
    "plot_mu(mu)\n",
    "print(\"Mixing coefficients: {}\".format(pi))"
   ]
  },
  {
   "cell_type": "markdown",
   "metadata": {
    "deletable": false,
    "editable": false,
    "nbgrader": {
     "cell_type": "markdown",
     "checksum": "485543f4893938d2a9dc1c17d8221cbc",
     "grade": false,
     "grade_id": "cell-88c9664f995b1909",
     "locked": true,
     "schema_version": 3,
     "solution": false
    }
   },
   "source": [
    "Can you identify which element in the latent space corresponds to which digit? What are the identified mixing coefficients for digits $2$, $3$ and $4$, and how do these compare to the true ones?"
   ]
  },
  {
   "cell_type": "markdown",
   "metadata": {
    "deletable": false,
    "nbgrader": {
     "cell_type": "markdown",
     "checksum": "ae7b5acea6089e2590059f90b0d0a0be",
     "grade": true,
     "grade_id": "cell-3680ae2159c48193",
     "locked": false,
     "points": 5,
     "schema_version": 3,
     "solution": true
    }
   },
   "source": [
    "Considering the visualizations, it is obvious that the elements in the latent space illustrate the numbers of the classes, namely 2,3,4. So, in the above shown images, the activated regions illustrate probabilities represent if a pixel is active and therefore, the shape of the digits is detectable. \n",
    "\n",
    "The mixing coefficients are uniformly distributed, which is in line with the assumption, that each number appears equally often. \n"
   ]
  },
  {
   "cell_type": "markdown",
   "metadata": {
    "deletable": false,
    "editable": false,
    "nbgrader": {
     "cell_type": "markdown",
     "checksum": "98e04feb59a36867367b3027df9e226d",
     "grade": false,
     "grade_id": "cell-0891dda1c3e80e9a",
     "locked": true,
     "schema_version": 3,
     "solution": false
    }
   },
   "source": [
    "### 1.4 Experiments (20 points)\n",
    "Perform the follow-up experiments listed below using your implementation of the EM algorithm. For each of these, describe/comment on the obtained results and give an explanation. You may still use your dataset with only digits 2, 3 and 4 as otherwise computations can take very long."
   ]
  },
  {
   "cell_type": "markdown",
   "metadata": {
    "deletable": false,
    "editable": false,
    "nbgrader": {
     "cell_type": "markdown",
     "checksum": "439067186fa3ef1d7261a9bcf5a84ea6",
     "grade": false,
     "grade_id": "cell-06fe1b1355689928",
     "locked": true,
     "schema_version": 3,
     "solution": false
    }
   },
   "source": [
    "#### 1.4.1 Size of the latent space (5 points)\n",
    "Run EM with $K$ larger or smaller than the true number of classes. Describe your results."
   ]
  },
  {
   "cell_type": "code",
   "execution_count": 13,
   "metadata": {
    "deletable": false,
    "nbgrader": {
     "cell_type": "code",
     "checksum": "791512aeadd30c4b586b966ca10e6fad",
     "grade": true,
     "grade_id": "cell-6c9057f2546b7215",
     "locked": false,
     "points": 2,
     "schema_version": 3,
     "solution": true
    }
   },
   "outputs": [
    {
     "name": "stdout",
     "output_type": "stream",
     "text": [
      "Iteration: 0, delta_mu: 17.0123, delta_pi: 0.33843\n",
      "Iteration: 1, delta_mu: 1.51294, delta_pi: 0.12849\n",
      "Iteration: 2, delta_mu: 0.55297, delta_pi: 0.06481\n",
      "Iteration: 3, delta_mu: 0.52761, delta_pi: 0.05617\n",
      "Iteration: 4, delta_mu: 0.529, delta_pi: 0.05015\n",
      "Iteration: 5, delta_mu: 0.45342, delta_pi: 0.0359\n",
      "Iteration: 6, delta_mu: 0.3342, delta_pi: 0.01891\n",
      "Iteration: 7, delta_mu: 0.20109, delta_pi: 0.00267\n",
      "Iteration: 8, delta_mu: 0.12291, delta_pi: 0.00508\n",
      "Iteration: 9, delta_mu: 0.08375, delta_pi: 0.00647\n",
      "Iteration: 10, delta_mu: 0.06812, delta_pi: 0.00683\n",
      "Iteration: 11, delta_mu: 0.06632, delta_pi: 0.00736\n",
      "Iteration: 12, delta_mu: 0.06722, delta_pi: 0.00756\n",
      "Iteration: 13, delta_mu: 0.06367, delta_pi: 0.00733\n",
      "Iteration: 14, delta_mu: 0.05885, delta_pi: 0.00697\n",
      "Iteration: 15, delta_mu: 0.05501, delta_pi: 0.00639\n",
      "Iteration: 16, delta_mu: 0.05351, delta_pi: 0.00606\n",
      "Iteration: 17, delta_mu: 0.05687, delta_pi: 0.00631\n",
      "Iteration: 18, delta_mu: 0.05574, delta_pi: 0.00619\n",
      "Iteration: 19, delta_mu: 0.04908, delta_pi: 0.00556\n",
      "Iteration: 20, delta_mu: 0.04328, delta_pi: 0.00496\n",
      "Iteration: 21, delta_mu: 0.04168, delta_pi: 0.00464\n",
      "Iteration: 22, delta_mu: 0.04243, delta_pi: 0.00453\n",
      "Iteration: 23, delta_mu: 0.04533, delta_pi: 0.00465\n",
      "Iteration: 24, delta_mu: 0.04829, delta_pi: 0.00494\n",
      "Iteration: 25, delta_mu: 0.04904, delta_pi: 0.0051\n",
      "Iteration: 26, delta_mu: 0.05083, delta_pi: 0.00519\n",
      "Iteration: 27, delta_mu: 0.05103, delta_pi: 0.00516\n",
      "Iteration: 28, delta_mu: 0.05927, delta_pi: 0.00574\n",
      "Iteration: 29, delta_mu: 0.06319, delta_pi: 0.00609\n",
      "Iteration: 30, delta_mu: 0.07622, delta_pi: 0.00715\n",
      "Iteration: 31, delta_mu: 0.09145, delta_pi: 0.00838\n",
      "Iteration: 32, delta_mu: 0.1033, delta_pi: 0.00944\n",
      "Iteration: 33, delta_mu: 0.11754, delta_pi: 0.01082\n",
      "Iteration: 34, delta_mu: 0.10825, delta_pi: 0.00994\n",
      "Iteration: 35, delta_mu: 0.1033, delta_pi: 0.00935\n",
      "Iteration: 36, delta_mu: 0.08564, delta_pi: 0.00745\n",
      "Iteration: 37, delta_mu: 0.05604, delta_pi: 0.00487\n",
      "Iteration: 38, delta_mu: 0.03649, delta_pi: 0.00312\n",
      "Iteration: 39, delta_mu: 0.02421, delta_pi: 0.00214\n",
      "Iteration: 40, delta_mu: 0.0137, delta_pi: 0.00121\n",
      "Iteration: 41, delta_mu: 0.00739, delta_pi: 0.00067\n",
      "Iteration: 42, delta_mu: 0.00384, delta_pi: 0.00036\n",
      "Iteration: 43, delta_mu: 0.00201, delta_pi: 0.0002\n",
      "Iteration: 44, delta_mu: 0.00107, delta_pi: 0.00011\n",
      "Iteration: 45, delta_mu: 0.0028, delta_pi: 4e-05\n",
      "Iteration: 46, delta_mu: 0.00163, delta_pi: 5e-05\n",
      "Iteration: 47, delta_mu: 0.00088, delta_pi: 5e-05\n",
      "Iteration: 48, delta_mu: 0.00052, delta_pi: 4e-05\n",
      "Iteration: 49, delta_mu: 0.0003, delta_pi: 2e-05\n",
      "Iteration: 50, delta_mu: 0.00018, delta_pi: 2e-05\n",
      "Iteration: 51, delta_mu: 0.0001, delta_pi: 1e-05\n",
      "Iteration: 52, delta_mu: 6e-05, delta_pi: 1e-05\n",
      "After iteration 52, convergence is reached\n"
     ]
    },
    {
     "data": {
      "image/png": "[encoded data removed]",
      "text/plain": [
       "<Figure size 1080x720 with 2 Axes>"
      ]
     },
     "metadata": {
      "needs_background": "light"
     },
     "output_type": "display_data"
    },
    {
     "name": "stdout",
     "output_type": "stream",
     "text": [
      "Mixing coefficients for 2 classes: [0.63115088 0.36884912]\n"
     ]
    }
   ],
   "source": [
    "gamma_2, mu_2, pi_2 = EM(example_trainbinary, 2, 100)\n",
    "plot_mu(mu_2)\n",
    "print(\"Mixing coefficients for 2 classes: {}\".format(pi_2))"
   ]
  },
  {
   "cell_type": "code",
   "execution_count": 14,
   "metadata": {},
   "outputs": [
    {
     "name": "stdout",
     "output_type": "stream",
     "text": [
      "Iteration: 0, delta_mu: 26.54926, delta_pi: 0.62313\n",
      "Iteration: 1, delta_mu: 3.88505, delta_pi: 0.4943\n",
      "Iteration: 2, delta_mu: 1.82397, delta_pi: 0.08689\n",
      "Iteration: 3, delta_mu: 1.34471, delta_pi: 0.04266\n",
      "Iteration: 4, delta_mu: 0.92996, delta_pi: 0.03215\n",
      "Iteration: 5, delta_mu: 0.60358, delta_pi: 0.02043\n",
      "Iteration: 6, delta_mu: 0.49192, delta_pi: 0.01428\n",
      "Iteration: 7, delta_mu: 0.50295, delta_pi: 0.01212\n",
      "Iteration: 8, delta_mu: 0.5553, delta_pi: 0.01264\n",
      "Iteration: 9, delta_mu: 0.51952, delta_pi: 0.01177\n",
      "Iteration: 10, delta_mu: 0.49096, delta_pi: 0.01224\n",
      "Iteration: 11, delta_mu: 0.39866, delta_pi: 0.01012\n",
      "Iteration: 12, delta_mu: 0.27349, delta_pi: 0.00712\n",
      "Iteration: 13, delta_mu: 0.18812, delta_pi: 0.00473\n",
      "Iteration: 14, delta_mu: 0.10775, delta_pi: 0.00298\n",
      "Iteration: 15, delta_mu: 0.06151, delta_pi: 0.00186\n",
      "Iteration: 16, delta_mu: 0.03416, delta_pi: 0.00114\n",
      "Iteration: 17, delta_mu: 0.02797, delta_pi: 0.00102\n",
      "Iteration: 18, delta_mu: 0.02722, delta_pi: 0.00106\n",
      "Iteration: 19, delta_mu: 0.02971, delta_pi: 0.00113\n",
      "Iteration: 20, delta_mu: 0.01996, delta_pi: 0.00088\n",
      "Iteration: 21, delta_mu: 0.01506, delta_pi: 0.00069\n",
      "Iteration: 22, delta_mu: 0.00899, delta_pi: 0.00042\n",
      "Iteration: 23, delta_mu: 0.00544, delta_pi: 0.00026\n",
      "Iteration: 24, delta_mu: 0.00349, delta_pi: 0.00017\n",
      "Iteration: 25, delta_mu: 0.00854, delta_pi: 0.00027\n",
      "Iteration: 26, delta_mu: 0.00847, delta_pi: 0.00022\n",
      "Iteration: 27, delta_mu: 0.00982, delta_pi: 0.00028\n",
      "Iteration: 28, delta_mu: 0.00525, delta_pi: 0.00014\n",
      "Iteration: 29, delta_mu: 0.00605, delta_pi: 0.00014\n",
      "Iteration: 30, delta_mu: 0.00273, delta_pi: 6e-05\n",
      "Iteration: 31, delta_mu: 0.00179, delta_pi: 4e-05\n",
      "Iteration: 32, delta_mu: 0.00136, delta_pi: 3e-05\n",
      "Iteration: 33, delta_mu: 0.0011, delta_pi: 2e-05\n",
      "Iteration: 34, delta_mu: 0.00091, delta_pi: 2e-05\n",
      "Iteration: 35, delta_mu: 0.00076, delta_pi: 2e-05\n",
      "Iteration: 36, delta_mu: 0.00065, delta_pi: 1e-05\n",
      "Iteration: 37, delta_mu: 0.00055, delta_pi: 1e-05\n",
      "Iteration: 38, delta_mu: 0.00047, delta_pi: 1e-05\n",
      "Iteration: 39, delta_mu: 0.00052, delta_pi: 1e-05\n",
      "Iteration: 40, delta_mu: 0.0023, delta_pi: 6e-05\n",
      "Iteration: 41, delta_mu: 0.00112, delta_pi: 3e-05\n",
      "Iteration: 42, delta_mu: 0.00045, delta_pi: 1e-05\n",
      "Iteration: 43, delta_mu: 0.00029, delta_pi: 1e-05\n",
      "Iteration: 44, delta_mu: 0.00023, delta_pi: 1e-05\n",
      "Iteration: 45, delta_mu: 0.00019, delta_pi: 1e-05\n",
      "Iteration: 46, delta_mu: 0.00016, delta_pi: 0.0\n",
      "Iteration: 47, delta_mu: 0.00014, delta_pi: 0.0\n",
      "Iteration: 48, delta_mu: 0.00012, delta_pi: 0.0\n",
      "Iteration: 49, delta_mu: 0.00011, delta_pi: 0.0\n",
      "Iteration: 50, delta_mu: 0.00024, delta_pi: 1e-05\n",
      "Iteration: 51, delta_mu: 0.00195, delta_pi: 5e-05\n",
      "Iteration: 52, delta_mu: 0.00285, delta_pi: 9e-05\n",
      "Iteration: 53, delta_mu: 0.00101, delta_pi: 5e-05\n",
      "Iteration: 54, delta_mu: 0.00036, delta_pi: 2e-05\n",
      "Iteration: 55, delta_mu: 0.00025, delta_pi: 1e-05\n",
      "Iteration: 56, delta_mu: 0.0015, delta_pi: 5e-05\n",
      "Iteration: 57, delta_mu: 0.0044, delta_pi: 0.0001\n",
      "Iteration: 58, delta_mu: 0.00132, delta_pi: 5e-05\n",
      "Iteration: 59, delta_mu: 0.00071, delta_pi: 2e-05\n",
      "Iteration: 60, delta_mu: 0.00043, delta_pi: 1e-05\n",
      "Iteration: 61, delta_mu: 0.0003, delta_pi: 1e-05\n",
      "Iteration: 62, delta_mu: 0.00022, delta_pi: 1e-05\n",
      "Iteration: 63, delta_mu: 0.00017, delta_pi: 0.0\n",
      "Iteration: 64, delta_mu: 0.00014, delta_pi: 0.0\n",
      "Iteration: 65, delta_mu: 0.00012, delta_pi: 0.0\n",
      "Iteration: 66, delta_mu: 0.00026, delta_pi: 0.0\n",
      "Iteration: 67, delta_mu: 0.00109, delta_pi: 2e-05\n",
      "Iteration: 68, delta_mu: 0.00263, delta_pi: 5e-05\n",
      "Iteration: 69, delta_mu: 0.00178, delta_pi: 4e-05\n",
      "Iteration: 70, delta_mu: 0.001, delta_pi: 2e-05\n",
      "Iteration: 71, delta_mu: 0.00072, delta_pi: 2e-05\n",
      "Iteration: 72, delta_mu: 0.00055, delta_pi: 1e-05\n",
      "Iteration: 73, delta_mu: 0.00043, delta_pi: 1e-05\n",
      "Iteration: 74, delta_mu: 0.00034, delta_pi: 1e-05\n",
      "Iteration: 75, delta_mu: 0.00027, delta_pi: 0.0\n",
      "Iteration: 76, delta_mu: 0.00022, delta_pi: 0.0\n",
      "Iteration: 77, delta_mu: 0.00018, delta_pi: 0.0\n",
      "Iteration: 78, delta_mu: 0.00014, delta_pi: 0.0\n",
      "Iteration: 79, delta_mu: 0.00012, delta_pi: 0.0\n",
      "Iteration: 80, delta_mu: 9e-05, delta_pi: 0.0\n",
      "After iteration 80, convergence is reached\n"
     ]
    },
    {
     "data": {
      "image/png": "[encoded data removed]",
      "text/plain": [
       "<Figure size 1080x720 with 5 Axes>"
      ]
     },
     "metadata": {
      "needs_background": "light"
     },
     "output_type": "display_data"
    },
    {
     "name": "stdout",
     "output_type": "stream",
     "text": [
      "Mixing coefficients for 5 classes: [0.347081   0.31965691 0.33326209]\n"
     ]
    }
   ],
   "source": [
    "gamma_5, mu_5, pi_5 = EM(example_trainbinary, 5, 100)\n",
    "plot_mu(mu_5)\n",
    "print(\"Mixing coefficients for 5 classes: {}\".format(pi))"
   ]
  },
  {
   "cell_type": "markdown",
   "metadata": {
    "deletable": false,
    "nbgrader": {
     "cell_type": "markdown",
     "checksum": "e12e40c2d2165e3bb500b5504128910d",
     "grade": true,
     "grade_id": "cell-f01c37653160244b",
     "locked": false,
     "points": 3,
     "schema_version": 3,
     "solution": true
    }
   },
   "source": [
    "The first case, a number smaller than the actual number of classes, the convergence of $\\mu_k$s to the actual classes is not guaranteed anymore, as seen in the picture, the first image is not clearly a three, but rather a mixture between three and two. The second image actually looks like it converged to a proper 4. \n",
    "\n",
    "For the larger case, we see, that convergence in itself takes much longer. Also, it is notable that the digits 4 and 2 are represented doubly. Therefore, compared to the smaller number of classes each $\\mu_k$ seemingly actually converged to a true class, as none of the shown digits seems distorted or as a mixture of classes. It is also notable, that the digits of the same class vary in their look (the two 2s and 4s seem different), which might stemm from the fact that they reflect a different region of the possible shapes of the respective digits. \n",
    "\n",
    "The mixture components seem to adapt, as they stay relatively uniform. \n",
    "\n",
    "So, both a too small and a too large number of classes lead to acuracy loss. Once, the classes are mixed and once multiple representations appear. "
   ]
  },
  {
   "cell_type": "markdown",
   "metadata": {
    "deletable": false,
    "editable": false,
    "nbgrader": {
     "cell_type": "markdown",
     "checksum": "b306681523a2e35eea310ac10bb68999",
     "grade": false,
     "grade_id": "cell-cf478d67239b7f2e",
     "locked": true,
     "schema_version": 3,
     "solution": false
    }
   },
   "source": [
    "#### 1.4.2 Identify misclassifications (10 points)\n",
    "How can you use the data labels to assign a label to each of the clusters/latent variables? Use this to identify images that are 'misclassified' and try to understand why they are. Report your findings."
   ]
  },
  {
   "cell_type": "code",
   "execution_count": 15,
   "metadata": {
    "deletable": false,
    "nbgrader": {
     "cell_type": "code",
     "checksum": "000c11bd8756a4e24296c7c55d3ee17e",
     "grade": true,
     "grade_id": "cell-daa1a492fbba5c7e",
     "locked": false,
     "points": 5,
     "schema_version": 3,
     "solution": true
    }
   },
   "outputs": [
    {
     "ename": "NotImplementedError",
     "evalue": "",
     "output_type": "error",
     "traceback": [
      "\u001b[1;31m---------------------------------------------------------------------------\u001b[0m",
      "\u001b[1;31mNotImplementedError\u001b[0m                       Traceback (most recent call last)",
      "\u001b[1;32m<ipython-input-15-15b94d1fa268>\u001b[0m in \u001b[0;36m<module>\u001b[1;34m\u001b[0m\n\u001b[0;32m      1\u001b[0m \u001b[1;31m# YOUR CODE HERE\u001b[0m\u001b[1;33m\u001b[0m\u001b[1;33m\u001b[0m\u001b[1;33m\u001b[0m\u001b[0m\n\u001b[1;32m----> 2\u001b[1;33m \u001b[1;32mraise\u001b[0m \u001b[0mNotImplementedError\u001b[0m\u001b[1;33m(\u001b[0m\u001b[1;33m)\u001b[0m\u001b[1;33m\u001b[0m\u001b[1;33m\u001b[0m\u001b[0m\n\u001b[0m",
      "\u001b[1;31mNotImplementedError\u001b[0m: "
     ]
    }
   ],
   "source": []
  },
  {
   "cell_type": "markdown",
   "metadata": {
    "deletable": false,
    "nbgrader": {
     "cell_type": "markdown",
     "checksum": "baf43434481c13d76ad51e3ba07e2bf5",
     "grade": true,
     "grade_id": "cell-329245c02df7850d",
     "locked": false,
     "points": 5,
     "schema_version": 3,
     "solution": true
    }
   },
   "source": [
    "YOUR ANSWER HERE"
   ]
  },
  {
   "cell_type": "markdown",
   "metadata": {
    "deletable": false,
    "editable": false,
    "nbgrader": {
     "cell_type": "markdown",
     "checksum": "640bc57a2d08c3becf534bb5e4b35971",
     "grade": false,
     "grade_id": "cell-67ce1222e8a7837b",
     "locked": true,
     "schema_version": 3,
     "solution": false
    }
   },
   "source": [
    "#### 1.4.3 Initialize with true values (5 points)\n",
    "Initialize the three classes with the true values of the parameters and see what happens. Report your results."
   ]
  },
  {
   "cell_type": "code",
   "execution_count": null,
   "metadata": {
    "deletable": false,
    "nbgrader": {
     "cell_type": "code",
     "checksum": "a48f788e286458ef0f776865a3bcd58b",
     "grade": true,
     "grade_id": "cell-aa5d6b9f941d985d",
     "locked": false,
     "points": 2,
     "schema_version": 3,
     "solution": true
    }
   },
   "outputs": [],
   "source": []
  },
  {
   "cell_type": "markdown",
   "metadata": {
    "deletable": false,
    "nbgrader": {
     "cell_type": "markdown",
     "checksum": "1dc4adf3081f3bec93f94c3b12b87db9",
     "grade": true,
     "grade_id": "cell-981e44f35a3764b0",
     "locked": false,
     "points": 3,
     "schema_version": 3,
     "solution": true
    }
   },
   "source": [
    "YOUR ANSWER HERE"
   ]
  },
  {
   "cell_type": "markdown",
   "metadata": {
    "deletable": false,
    "editable": false,
    "nbgrader": {
     "cell_type": "markdown",
     "checksum": "bd613f41e5d2b7d22b0d5b1e7644a48a",
     "grade": false,
     "grade_id": "cell-19bfd7cf4017ed84",
     "locked": true,
     "schema_version": 3,
     "solution": false
    }
   },
   "source": [
    "## Part 2: Variational Auto-Encoder\n",
    "\n",
    "A Variational Auto-Encoder (VAE) is a probabilistic model $p(\\bx, \\bz)$ over observed variables $\\bx$ and latent variables and/or parameters $\\bz$. Here we distinguish the decoder part, $p(\\bx | \\bz) p(\\bz)$ and an encoder part $p(\\bz | \\bx)$ that are both specified with a neural network. A lower bound on the log marginal likelihood $\\log p(\\bx)$ can be obtained by approximately inferring the latent variables z from the observed data x using an encoder distribution $q(\\bz| \\bx)$ that is also specified as a neural network. This lower bound is then optimized to fit the model to the data. \n",
    "\n",
    "The model was introduced by Diederik Kingma (during his PhD at the UVA) and Max Welling in 2013, https://arxiv.org/abs/1312.6114. \n",
    "\n",
    "Since it is such an important model there are plenty of well written tutorials that should help you with the assignment. E.g: https://jaan.io/what-is-variational-autoencoder-vae-tutorial/.\n",
    "\n",
    "In the following, we will make heavily use of the torch module, https://pytorch.org/docs/stable/index.html. Most of the time replacing `np.` with `torch.` will do the trick, e.g. `np.sum` becomes `torch.sum` and `np.log` becomes `torch.log`. In addition, we will use `torch.FloatTensor()` as an equivalent to `np.array()`. In order to train our VAE efficiently we will make use of batching. The number of data points in a batch will become the first dimension of our data tensor, e.g. A batch of 128 MNIST images has the dimensions [128, 1, 28, 28]. To check check the dimensions of a tensor you can call `.size()`."
   ]
  },
  {
   "cell_type": "markdown",
   "metadata": {
    "deletable": false,
    "editable": false,
    "nbgrader": {
     "cell_type": "markdown",
     "checksum": "92bd337f41c3f94777f47376c7149ca7",
     "grade": false,
     "grade_id": "cell-bcbe35b20c1007d3",
     "locked": true,
     "schema_version": 3,
     "solution": false
    }
   },
   "source": [
    "### 2.1 Loss function\n",
    "The objective function (variational lower bound), that we will use to train the VAE, consists of two terms: a log Bernoulli loss (reconstruction loss) and a Kullback–Leibler divergence. We implement the two terms separately and combine them in the end.\n",
    "As seen in Part 1: Expectation Maximization, we can use a multivariate Bernoulli distribution to model the likelihood $p(\\bx | \\bz)$ of black and white images. Formally, the variational lower bound is maximized but in PyTorch we are always minimizing therefore we need to calculate the negative log Bernoulli loss and Kullback–Leibler divergence."
   ]
  },
  {
   "cell_type": "markdown",
   "metadata": {
    "deletable": false,
    "editable": false,
    "nbgrader": {
     "cell_type": "markdown",
     "checksum": "3fb5f70b132e1233983ef89d19998374",
     "grade": false,
     "grade_id": "cell-389d81024af846e5",
     "locked": true,
     "schema_version": 3,
     "solution": false
    }
   },
   "source": [
    "### 2.1.1 Negative Log Bernoulli loss (5 points)\n",
    "The negative log Bernoulli loss is defined as,\n",
    "\n",
    "\\begin{align}\n",
    "loss = - (\\sum_i^D \\bx_i \\log \\hat{\\bx_i} + (1 − \\bx_i) \\log(1 − \\hat{\\bx_i})).\n",
    "\\end{align}\n",
    "\n",
    "Write a function `log_bernoulli_loss` that takes a D dimensional vector `x`, its reconstruction `x_hat` and returns the negative log Bernoulli loss. Make sure that your function works for batches of arbitrary size."
   ]
  },
  {
   "cell_type": "code",
   "execution_count": 16,
   "metadata": {
    "deletable": false,
    "nbgrader": {
     "cell_type": "code",
     "checksum": "952435ca03f47ab67a7e88b8306fc9a0",
     "grade": false,
     "grade_id": "cell-1d504606d6f99145",
     "locked": false,
     "schema_version": 3,
     "solution": true
    }
   },
   "outputs": [],
   "source": [
    "def log_bernoulli_loss(x_hat, x):\n",
    "    \n",
    "    loss = -torch.sum(x * torch.log(x_hat) + (1 - x) * torch.log(1 - x_hat))\n",
    "    return loss\n"
   ]
  },
  {
   "cell_type": "code",
   "execution_count": 17,
   "metadata": {
    "deletable": false,
    "editable": false,
    "nbgrader": {
     "cell_type": "code",
     "checksum": "bd2a490aa694507bd032e86d77fc0087",
     "grade": true,
     "grade_id": "cell-9666dad0b2a9f483",
     "locked": true,
     "points": 5,
     "schema_version": 3,
     "solution": false
    }
   },
   "outputs": [],
   "source": [
    "### Test test test\n",
    "x_test = torch.FloatTensor([[0.1, 0.2, 0.3, 0.4], [0.5, 0.6, 0.7, 0.8], [0.9, 0.9, 0.9, 0.9]])\n",
    "x_hat_test = torch.FloatTensor([[0.11, 0.22, 0.33, 0.44], [0.55, 0.66, 0.77, 0.88], [0.99, 0.99, 0.99, 0.99]])\n",
    "\n",
    "assert log_bernoulli_loss(x_hat_test, x_test) > 0.0\n",
    "assert log_bernoulli_loss(x_hat_test, x_test) < 10.0\n"
   ]
  },
  {
   "cell_type": "markdown",
   "metadata": {
    "deletable": false,
    "editable": false,
    "nbgrader": {
     "cell_type": "markdown",
     "checksum": "6b75b7a531ecc87bce57925c4da464ee",
     "grade": false,
     "grade_id": "cell-b3a7c02dee7aa505",
     "locked": true,
     "schema_version": 3,
     "solution": false
    }
   },
   "source": [
    "### 2.1.2 Negative Kullback–Leibler divergence (10 Points)\n",
    "The variational lower bound (the objective to be maximized) contains a KL term $D_{KL}(q(\\bz)||p(\\bz))$ that can often be calculated analytically. In the VAE we assume $q = N(\\bz, \\mu, \\sigma^2I)$ and $p = N(\\bz, 0, I)$. Solve analytically!"
   ]
  },
  {
   "cell_type": "markdown",
   "metadata": {
    "deletable": false,
    "nbgrader": {
     "cell_type": "markdown",
     "checksum": "d01a7e7fe2dcf5f1c5fb955b85c8a04a",
     "grade": true,
     "grade_id": "cell-4cab10fd1a636858",
     "locked": false,
     "points": 5,
     "schema_version": 3,
     "solution": true
    }
   },
   "source": [
    "YOUR ANSWER HERE"
   ]
  },
  {
   "cell_type": "markdown",
   "metadata": {
    "deletable": false,
    "editable": false,
    "nbgrader": {
     "cell_type": "markdown",
     "checksum": "328115c94a66e8aba0a62896e647c3ba",
     "grade": false,
     "grade_id": "cell-c49899cbf2a49362",
     "locked": true,
     "schema_version": 3,
     "solution": false
    }
   },
   "source": [
    "Write a function `KL_loss` that takes two J dimensional vectors `mu` and `logvar` and returns the negative Kullback–Leibler divergence. Where `logvar` is $\\log(\\sigma^2)$. Make sure that your function works for batches of arbitrary size."
   ]
  },
  {
   "cell_type": "code",
   "execution_count": 18,
   "metadata": {
    "deletable": false,
    "nbgrader": {
     "cell_type": "code",
     "checksum": "33b14b79372dd0235d67bb66921cd3e0",
     "grade": false,
     "grade_id": "cell-125b41878005206b",
     "locked": false,
     "schema_version": 3,
     "solution": true
    }
   },
   "outputs": [],
   "source": [
    "def KL_loss(mu, logvar):\n",
    "    \n",
    "    loss = -(1/2) * torch.sum(1 + logvar - mu.pow(2) - logvar.exp())\n",
    "    return loss\n"
   ]
  },
  {
   "cell_type": "code",
   "execution_count": 19,
   "metadata": {
    "deletable": false,
    "editable": false,
    "nbgrader": {
     "cell_type": "code",
     "checksum": "cf72e196d2b60827e8e940681ac50a07",
     "grade": true,
     "grade_id": "cell-ba714bbe270a3f39",
     "locked": true,
     "points": 5,
     "schema_version": 3,
     "solution": false
    }
   },
   "outputs": [],
   "source": [
    "### Test test test\n",
    "mu_test = torch.FloatTensor([[0.1, 0.2], [0.3, 0.4], [0.5, 0.6]])\n",
    "logvar_test = torch.FloatTensor([[0.01, 0.02], [0.03, 0.04], [0.05, 0.06]])\n",
    "\n",
    "assert KL_loss(mu_test, logvar_test) > 0.0\n",
    "assert KL_loss(mu_test, logvar_test) < 10.0\n"
   ]
  },
  {
   "cell_type": "markdown",
   "metadata": {
    "deletable": false,
    "editable": false,
    "nbgrader": {
     "cell_type": "markdown",
     "checksum": "65335a588baac26bc48dd6c4d275fdca",
     "grade": false,
     "grade_id": "cell-18cb3f8031edec23",
     "locked": true,
     "schema_version": 3,
     "solution": false
    }
   },
   "source": [
    "### 2.1.3 Putting the losses together (5 points)\n",
    "Write a function `loss_function` that takes a D dimensional vector `x`, its reconstruction `x_hat`, two J dimensional vectors `mu` and `logvar` and returns the final loss. Make sure that your function works for batches of arbitrary size."
   ]
  },
  {
   "cell_type": "code",
   "execution_count": 20,
   "metadata": {
    "deletable": false,
    "nbgrader": {
     "cell_type": "code",
     "checksum": "f6ecb5b60b2c8d7b90070ed59320ee70",
     "grade": false,
     "grade_id": "cell-d2d18781683f1302",
     "locked": false,
     "schema_version": 3,
     "solution": true
    }
   },
   "outputs": [],
   "source": [
    "def loss_function(x_hat, x, mu, logvar):\n",
    "    \n",
    "    loss = log_bernoulli_loss(x_hat, x) + KL_loss(mu, logvar)\n",
    "    return loss\n"
   ]
  },
  {
   "cell_type": "code",
   "execution_count": 21,
   "metadata": {
    "deletable": false,
    "editable": false,
    "nbgrader": {
     "cell_type": "code",
     "checksum": "816e9508408bfcb2c7332b508d505081",
     "grade": true,
     "grade_id": "cell-57747988d29bbb5d",
     "locked": true,
     "points": 5,
     "schema_version": 3,
     "solution": false
    }
   },
   "outputs": [],
   "source": [
    "x_test = torch.FloatTensor([[0.1, 0.2, 0.3], [0.4, 0.5, 0.6], [0.7, 0.8, 0.9]])\n",
    "x_hat_test = torch.FloatTensor([[0.11, 0.22, 0.33], [0.44, 0.55, 0.66], [0.77, 0.88, 0.99]])\n",
    "mu_test = torch.FloatTensor([[0.1, 0.2], [0.3, 0.4], [0.5, 0.6]])\n",
    "logvar_test = torch.FloatTensor([[0.01, 0.02], [0.03, 0.04], [0.05, 0.06]])\n",
    "\n",
    "assert loss_function(x_hat_test, x_test, mu_test, logvar_test) > 0.0\n",
    "assert loss_function(x_hat_test, x_test, mu_test, logvar_test) < 10.0\n"
   ]
  },
  {
   "cell_type": "markdown",
   "metadata": {
    "deletable": false,
    "editable": false,
    "nbgrader": {
     "cell_type": "markdown",
     "checksum": "4506e06ed44a0535140582277a528ba4",
     "grade": false,
     "grade_id": "cell-9e3ba708967fe918",
     "locked": true,
     "schema_version": 3,
     "solution": false
    }
   },
   "source": [
    "### 2.2 The model\n",
    "Below you see a data structure for the VAE. The modell itself consists of two main parts the encoder (images $\\bx$ to latent variables $\\bz$) and the decoder (latent variables $\\bz$ to images $\\bx$). The encoder is using 3 fully-connected layers, whereas the decoder is using fully-connected layers. Right now the data structure is quite empty, step by step will update its functionality. For test purposes we will initialize a VAE for you. After the data structure is completed you will do the hyperparameter search.\n"
   ]
  },
  {
   "cell_type": "code",
   "execution_count": 22,
   "metadata": {
    "deletable": false,
    "editable": false,
    "nbgrader": {
     "cell_type": "code",
     "checksum": "31eccf2f6600764e28eb4bc6c5634e49",
     "grade": false,
     "grade_id": "cell-e7d9dafee18f28a1",
     "locked": true,
     "schema_version": 3,
     "solution": false
    }
   },
   "outputs": [],
   "source": [
    "from torch import nn\n",
    "from torch.nn import functional as F \n",
    "\n",
    "class VAE(nn.Module):\n",
    "    def __init__(self, fc1_dims, fc21_dims, fc22_dims, fc3_dims, fc4_dims):\n",
    "        super(VAE, self).__init__()\n",
    "\n",
    "        self.fc1 = nn.Linear(*fc1_dims)\n",
    "        self.fc21 = nn.Linear(*fc21_dims)\n",
    "        self.fc22 = nn.Linear(*fc22_dims)\n",
    "        self.fc3 = nn.Linear(*fc3_dims)\n",
    "        self.fc4 = nn.Linear(*fc4_dims)\n",
    "\n",
    "    def encode(self, x):\n",
    "        # To be implemented\n",
    "        raise Exception('Method not implemented')\n",
    "\n",
    "    def reparameterize(self, mu, logvar):\n",
    "        # To be implemented\n",
    "        raise Exception('Method not implemented')\n",
    "\n",
    "    def decode(self, z):\n",
    "        # To be implemented\n",
    "        raise Exception('Method not implemented')\n",
    "\n",
    "    def forward(self, x):\n",
    "        # To be implemented\n",
    "        raise Exception('Method not implemented')\n",
    "\n",
    "VAE_test = VAE(fc1_dims=(784, 4), fc21_dims=(4, 2), fc22_dims=(4, 2), fc3_dims=(2, 4), fc4_dims=(4, 784))\n"
   ]
  },
  {
   "cell_type": "markdown",
   "metadata": {
    "deletable": false,
    "editable": false,
    "nbgrader": {
     "cell_type": "markdown",
     "checksum": "1a2243397998b4f55c25dfd734f3e7e0",
     "grade": false,
     "grade_id": "cell-c4f9e841b8972a43",
     "locked": true,
     "schema_version": 3,
     "solution": false
    }
   },
   "source": [
    "### 2.3 Encoding (10 points)\n",
    "Write a function `encode` that gets a vector `x` with 784 elements (flattened MNIST image) and returns `mu` and `logvar`. Your function should use three fully-connected layers (`self.fc1()`, `self.fc21()`, `self.fc22()`). First, you should use `self.fc1()` to embed `x`. Second, you should use `self.fc21()` and `self.fc22()` on the embedding of `x` to compute `mu` and `logvar` respectively. PyTorch comes with a variety of activation functions, the most common calls are `F.relu()`, `F.sigmoid()`, `F.tanh()`. Make sure that your function works for batches of arbitrary size.  "
   ]
  },
  {
   "cell_type": "code",
   "execution_count": 23,
   "metadata": {
    "deletable": false,
    "nbgrader": {
     "cell_type": "code",
     "checksum": "628bcd88c611cf01e70f77854600199b",
     "grade": false,
     "grade_id": "cell-93cb75b98ae76569",
     "locked": false,
     "schema_version": 3,
     "solution": true
    }
   },
   "outputs": [],
   "source": [
    "def encode(self, x):\n",
    "    \n",
    "    h1 = F.relu(self.fc1(x))\n",
    "    mu = self.fc21(h1)\n",
    "    logvar = self.fc22(h1)\n",
    "\n",
    "    return mu, logvar\n"
   ]
  },
  {
   "cell_type": "code",
   "execution_count": 24,
   "metadata": {
    "deletable": false,
    "editable": false,
    "nbgrader": {
     "cell_type": "code",
     "checksum": "370d930fa9f10f1d3a451f3805c04d88",
     "grade": true,
     "grade_id": "cell-9648960b73337a70",
     "locked": true,
     "points": 10,
     "schema_version": 3,
     "solution": false
    }
   },
   "outputs": [],
   "source": [
    "### Test, test, test\n",
    "VAE.encode = encode\n",
    "\n",
    "x_test = torch.ones((5,784))\n",
    "mu_test, logvar_test = VAE_test.encode(x_test)\n",
    "\n",
    "assert np.allclose(mu_test.size(), [5, 2])\n",
    "assert np.allclose(logvar_test.size(), [5, 2])\n"
   ]
  },
  {
   "cell_type": "markdown",
   "metadata": {
    "deletable": false,
    "editable": false,
    "nbgrader": {
     "cell_type": "markdown",
     "checksum": "6f597cc2b5ef941af282d7162297f865",
     "grade": false,
     "grade_id": "cell-581b4ed1996be868",
     "locked": true,
     "schema_version": 3,
     "solution": false
    }
   },
   "source": [
    "### 2.4 Reparameterization (10 points)\n",
    "One of the major question that the VAE is answering, is 'how to take derivatives with respect to the parameters of a stochastic variable?', i.e. if we are given $\\bz$ that is drawn from a distribution $q(\\bz|\\bx)$, and we want to take derivatives. This step is necessary to be able to use gradient-based optimization algorithms like SGD.\n",
    "For some distributions, it is possible to reparameterize samples in a clever way, such that the stochasticity is independent of the parameters. We want our samples to deterministically depend on the parameters of the distribution. For example, in a normally-distributed variable with mean $\\mu$ and standard deviation $\\sigma$, we can sample from it like this:\n",
    "\n",
    "\\begin{align}\n",
    "\\bz = \\mu + \\sigma \\odot \\epsilon,\n",
    "\\end{align}\n",
    "\n",
    "where $\\odot$ is the element-wise multiplication and $\\epsilon$ is sampled from $N(0, I)$.\n",
    "\n",
    "\n",
    "Write a function `reparameterize` that takes two J dimensional vectors `mu` and `logvar`. It should return $\\bz = \\mu + \\sigma \\odot \\epsilon$.\n"
   ]
  },
  {
   "cell_type": "code",
   "execution_count": 25,
   "metadata": {
    "deletable": false,
    "nbgrader": {
     "cell_type": "code",
     "checksum": "6331cb5dd23aaacbcf1a52cfecb1afaa",
     "grade": false,
     "grade_id": "cell-679aea8b2adf7ec4",
     "locked": false,
     "schema_version": 3,
     "solution": true
    }
   },
   "outputs": [],
   "source": [
    "def reparameterize(self, mu, logvar):\n",
    "            \n",
    "        return  mu + torch.exp(1/2 * logvar) * torch.randn_like(mu)\n"
   ]
  },
  {
   "cell_type": "code",
   "execution_count": 26,
   "metadata": {
    "deletable": false,
    "editable": false,
    "nbgrader": {
     "cell_type": "code",
     "checksum": "38d4e047717ab334b262c8c177f0a420",
     "grade": true,
     "grade_id": "cell-fdd7b27a3d17f84e",
     "locked": true,
     "points": 10,
     "schema_version": 3,
     "solution": false
    }
   },
   "outputs": [],
   "source": [
    "### Test, test, test\n",
    "VAE.reparameterize = reparameterize\n",
    "VAE_test.train()\n",
    "\n",
    "mu_test = torch.FloatTensor([[0.1, 0.2], [0.3, 0.4], [0.5, 0.6]])\n",
    "logvar_test = torch.FloatTensor([[0.01, 0.02], [0.03, 0.04], [0.05, 0.06]])\n",
    "\n",
    "z_test = VAE_test.reparameterize(mu_test, logvar_test)\n",
    "\n",
    "assert np.allclose(z_test.size(), [3, 2])\n",
    "assert z_test[0][0] < 5.0\n",
    "assert z_test[0][0] > -5.0\n"
   ]
  },
  {
   "cell_type": "markdown",
   "metadata": {
    "deletable": false,
    "editable": false,
    "nbgrader": {
     "cell_type": "markdown",
     "checksum": "9241ab0eaf8366c37ad57072ce66f095",
     "grade": false,
     "grade_id": "cell-0be851f9f7f0a93e",
     "locked": true,
     "schema_version": 3,
     "solution": false
    }
   },
   "source": [
    "### 2.5 Decoding (10 points)\n",
    "Write a function `decode` that gets a vector `z` with J elements and returns a vector `x_hat` with 784 elements (flattened MNIST image). Your function should use two fully-connected layers (`self.fc3()`, `self.fc4()`). PyTorch comes with a variety of activation functions, the most common calls are `F.relu()`, `F.sigmoid()`, `F.tanh()`. Make sure that your function works for batches of arbitrary size."
   ]
  },
  {
   "cell_type": "code",
   "execution_count": 27,
   "metadata": {
    "deletable": false,
    "nbgrader": {
     "cell_type": "code",
     "checksum": "e8e833cfd7c54a9b67a38056d5d6cab8",
     "grade": false,
     "grade_id": "cell-bf92bb3878275a41",
     "locked": false,
     "schema_version": 3,
     "solution": true
    }
   },
   "outputs": [],
   "source": [
    "def decode(self, z):\n",
    "    \n",
    "    h1 = self.fc3(z)\n",
    "    h1 = F.relu(h1)\n",
    "    h1 = self.fc4(h1)\n",
    "    x_hat = F.sigmoid(h1)\n",
    "    return x_hat\n"
   ]
  },
  {
   "cell_type": "code",
   "execution_count": 28,
   "metadata": {
    "deletable": false,
    "editable": false,
    "nbgrader": {
     "cell_type": "code",
     "checksum": "7732293fd7d971fcf255496e8c68638d",
     "grade": true,
     "grade_id": "cell-4abb91cb9e80af5d",
     "locked": true,
     "points": 10,
     "schema_version": 3,
     "solution": false
    }
   },
   "outputs": [
    {
     "name": "stderr",
     "output_type": "stream",
     "text": [
      "C:\\Users\\lintl\\Anaconda3\\envs\\rl2019\\lib\\site-packages\\torch\\nn\\functional.py:1350: UserWarning: nn.functional.sigmoid is deprecated. Use torch.sigmoid instead.\n",
      "  warnings.warn(\"nn.functional.sigmoid is deprecated. Use torch.sigmoid instead.\")\n"
     ]
    }
   ],
   "source": [
    "# test test test\n",
    "VAE.decode = decode\n",
    "\n",
    "z_test = torch.ones((5,2))\n",
    "x_hat_test = VAE_test.decode(z_test)\n",
    "\n",
    "assert np.allclose(x_hat_test.size(), [5, 784])\n",
    "assert (x_hat_test <= 1).all()\n",
    "assert (x_hat_test >= 0).all()\n"
   ]
  },
  {
   "cell_type": "markdown",
   "metadata": {
    "deletable": false,
    "editable": false,
    "nbgrader": {
     "cell_type": "markdown",
     "checksum": "e2e113d1f45398b2a1399c336526e755",
     "grade": false,
     "grade_id": "cell-97511fbc4f5b469b",
     "locked": true,
     "schema_version": 3,
     "solution": false
    }
   },
   "source": [
    "### 2.6 Forward pass (10)\n",
    "To complete the data structure you have to define a forward pass through the VAE. A single forward pass consists of the encoding of an MNIST image $\\bx$ into latent space $\\bz$, the reparameterization of $\\bz$ and the decoding of $\\bz$ into an image $\\bx$.\n",
    "\n",
    "Write a function `forward` that gets a a vector `x` with 784 elements (flattened MNIST image) and returns a vector `x_hat` with 784 elements (flattened MNIST image), `mu` and `logvar`."
   ]
  },
  {
   "cell_type": "code",
   "execution_count": 29,
   "metadata": {
    "deletable": false,
    "nbgrader": {
     "cell_type": "code",
     "checksum": "8b7433c4631dd01c07a5fe287e55ae13",
     "grade": false,
     "grade_id": "cell-26bb463b9f98ebd5",
     "locked": false,
     "schema_version": 3,
     "solution": true
    }
   },
   "outputs": [],
   "source": [
    "def forward(self, x):\n",
    "    x = x.view(-1, 784)\n",
    "    \n",
    "    mu, logvar = self.encode(x)\n",
    "    \n",
    "    z = self.reparameterize(mu, logvar)\n",
    "    \n",
    "    x_hat = self.decode(z)\n",
    "    \n",
    "    return x_hat, mu, logvar\n"
   ]
  },
  {
   "cell_type": "code",
   "execution_count": 30,
   "metadata": {
    "deletable": false,
    "editable": false,
    "nbgrader": {
     "cell_type": "code",
     "checksum": "8e7e495f40465c162512e9873c360b25",
     "grade": true,
     "grade_id": "cell-347e5fba3d02754b",
     "locked": true,
     "points": 10,
     "schema_version": 3,
     "solution": false
    }
   },
   "outputs": [],
   "source": [
    "# test test test \n",
    "VAE.forward = forward\n",
    "\n",
    "x_test = torch.ones((5,784))\n",
    "x_hat_test, mu_test, logvar_test = VAE_test.forward(x_test)\n",
    "\n",
    "assert np.allclose(x_hat_test.size(), [5, 784])\n",
    "assert np.allclose(mu_test.size(), [5, 2])\n",
    "assert np.allclose(logvar_test.size(), [5, 2])\n"
   ]
  },
  {
   "cell_type": "markdown",
   "metadata": {
    "deletable": false,
    "editable": false,
    "nbgrader": {
     "cell_type": "markdown",
     "checksum": "a114a6fd781fb949b887e6a028e07946",
     "grade": false,
     "grade_id": "cell-62c89e4d3b253671",
     "locked": true,
     "schema_version": 3,
     "solution": false
    }
   },
   "source": [
    "### 2.7 Training (15)\n",
    "We will now train the VAE using an optimizer called Adam, https://arxiv.org/abs/1412.6980. The code to train a model in PyTorch is given below."
   ]
  },
  {
   "cell_type": "code",
   "execution_count": 31,
   "metadata": {
    "deletable": false,
    "editable": false,
    "nbgrader": {
     "cell_type": "code",
     "checksum": "f3b6bb965fb48229c63cacda48baea65",
     "grade": false,
     "grade_id": "cell-be75f61b09f3b9b6",
     "locked": true,
     "schema_version": 3,
     "solution": false
    }
   },
   "outputs": [],
   "source": [
    "from torch.autograd import Variable\n",
    "\n",
    "def train(epoch, train_loader, model, optimizer):\n",
    "    model.train()\n",
    "    train_loss = 0\n",
    "    for batch_idx, (data, _) in enumerate(train_loader):\n",
    "        data = Variable(data)\n",
    "        optimizer.zero_grad()\n",
    "        recon_batch, mu, logvar = model(data)\n",
    "        loss = loss_function(recon_batch, data.view(-1, 784), mu, logvar)\n",
    "        loss.backward()\n",
    "        train_loss += loss.data\n",
    "        optimizer.step()\n",
    "        if batch_idx % 100 == 0:\n",
    "            print('Train Epoch: {} [{}/{} ({:.0f}%)]\\tLoss: {:.6f}'.format(\n",
    "                epoch, batch_idx * len(data), len(train_loader.dataset),\n",
    "                100. * batch_idx / len(train_loader),\n",
    "                loss.data / len(data)))\n",
    "\n",
    "    print('====> Epoch: {} Average loss: {:.4f}'.format(\n",
    "          epoch, train_loss / len(train_loader.dataset)))\n"
   ]
  },
  {
   "cell_type": "markdown",
   "metadata": {
    "deletable": false,
    "editable": false,
    "nbgrader": {
     "cell_type": "markdown",
     "checksum": "48ca730dbef06a668f4dfdb24888f265",
     "grade": false,
     "grade_id": "cell-da1b063b7de850b9",
     "locked": true,
     "schema_version": 3,
     "solution": false
    }
   },
   "source": [
    "Let's train. You have to choose the hyperparameters. Make sure your loss is going down in a reasonable amount of epochs (around 10)."
   ]
  },
  {
   "cell_type": "code",
   "execution_count": 32,
   "metadata": {
    "deletable": false,
    "nbgrader": {
     "cell_type": "code",
     "checksum": "846430258fb80f50b161135448726520",
     "grade": false,
     "grade_id": "cell-d4d4408d397f6967",
     "locked": false,
     "schema_version": 3,
     "solution": true
    }
   },
   "outputs": [],
   "source": [
    "# Hyperparameters\n",
    "fc1_dims = (784, 400)\n",
    "fc21_dims = (400, 20)\n",
    "fc22_dims = (400, 20)\n",
    "fc3_dims = (20, 400)\n",
    "fc4_dims = (400, 784)\n",
    "lr = 1e-4\n",
    "batch_size = 120\n",
    "epochs = 10\n"
   ]
  },
  {
   "cell_type": "code",
   "execution_count": 33,
   "metadata": {
    "deletable": false,
    "editable": false,
    "nbgrader": {
     "cell_type": "code",
     "checksum": "b93390f399b743276bc25e67493344f2",
     "grade": true,
     "grade_id": "cell-ca352d8389c1809a",
     "locked": true,
     "points": 15,
     "schema_version": 3,
     "solution": false
    }
   },
   "outputs": [],
   "source": [
    "# This cell contains a hidden test, please don't delete it, thx"
   ]
  },
  {
   "cell_type": "markdown",
   "metadata": {
    "deletable": false,
    "editable": false,
    "nbgrader": {
     "cell_type": "markdown",
     "checksum": "20719070ed85964de9722acc3456a515",
     "grade": false,
     "grade_id": "cell-5c77370db7cec9f2",
     "locked": true,
     "schema_version": 3,
     "solution": false
    }
   },
   "source": [
    "Run the box below to train the model using the hyperparameters you entered above."
   ]
  },
  {
   "cell_type": "code",
   "execution_count": 34,
   "metadata": {
    "deletable": false,
    "editable": false,
    "nbgrader": {
     "cell_type": "code",
     "checksum": "38306be3638e85812bd5b2a052fcc0a4",
     "grade": false,
     "grade_id": "cell-5712d42de1068398",
     "locked": true,
     "schema_version": 3,
     "solution": false
    }
   },
   "outputs": [
    {
     "name": "stdout",
     "output_type": "stream",
     "text": [
      "Train Epoch: 1 [0/60000 (0%)]\tLoss: 550.567566\n",
      "Train Epoch: 1 [12000/60000 (20%)]\tLoss: 268.343658\n",
      "Train Epoch: 1 [24000/60000 (40%)]\tLoss: 235.497818\n",
      "Train Epoch: 1 [36000/60000 (60%)]\tLoss: 212.567719\n",
      "Train Epoch: 1 [48000/60000 (80%)]\tLoss: 207.858917\n",
      "====> Epoch: 1 Average loss: 254.7273\n",
      "Train Epoch: 2 [0/60000 (0%)]\tLoss: 192.445572\n",
      "Train Epoch: 2 [12000/60000 (20%)]\tLoss: 184.283844\n",
      "Train Epoch: 2 [24000/60000 (40%)]\tLoss: 174.772934\n",
      "Train Epoch: 2 [36000/60000 (60%)]\tLoss: 176.407883\n",
      "Train Epoch: 2 [48000/60000 (80%)]\tLoss: 168.189941\n",
      "====> Epoch: 2 Average loss: 174.8130\n",
      "Train Epoch: 3 [0/60000 (0%)]\tLoss: 161.005066\n",
      "Train Epoch: 3 [12000/60000 (20%)]\tLoss: 158.476639\n",
      "Train Epoch: 3 [24000/60000 (40%)]\tLoss: 156.709290\n",
      "Train Epoch: 3 [36000/60000 (60%)]\tLoss: 158.456818\n",
      "Train Epoch: 3 [48000/60000 (80%)]\tLoss: 151.390640\n",
      "====> Epoch: 3 Average loss: 155.7453\n",
      "Train Epoch: 4 [0/60000 (0%)]\tLoss: 151.145935\n",
      "Train Epoch: 4 [12000/60000 (20%)]\tLoss: 137.667313\n",
      "Train Epoch: 4 [24000/60000 (40%)]\tLoss: 143.940842\n",
      "Train Epoch: 4 [36000/60000 (60%)]\tLoss: 144.788986\n",
      "Train Epoch: 4 [48000/60000 (80%)]\tLoss: 138.139908\n",
      "====> Epoch: 4 Average loss: 144.3600\n",
      "Train Epoch: 5 [0/60000 (0%)]\tLoss: 140.378143\n",
      "Train Epoch: 5 [12000/60000 (20%)]\tLoss: 138.112839\n",
      "Train Epoch: 5 [24000/60000 (40%)]\tLoss: 139.341797\n",
      "Train Epoch: 5 [36000/60000 (60%)]\tLoss: 140.853287\n",
      "Train Epoch: 5 [48000/60000 (80%)]\tLoss: 130.976883\n",
      "====> Epoch: 5 Average loss: 136.7890\n",
      "Train Epoch: 6 [0/60000 (0%)]\tLoss: 131.719711\n",
      "Train Epoch: 6 [12000/60000 (20%)]\tLoss: 132.215408\n",
      "Train Epoch: 6 [24000/60000 (40%)]\tLoss: 131.544479\n",
      "Train Epoch: 6 [36000/60000 (60%)]\tLoss: 137.173676\n",
      "Train Epoch: 6 [48000/60000 (80%)]\tLoss: 134.207764\n",
      "====> Epoch: 6 Average loss: 131.5690\n",
      "Train Epoch: 7 [0/60000 (0%)]\tLoss: 130.113449\n",
      "Train Epoch: 7 [12000/60000 (20%)]\tLoss: 134.579498\n",
      "Train Epoch: 7 [24000/60000 (40%)]\tLoss: 127.660347\n",
      "Train Epoch: 7 [36000/60000 (60%)]\tLoss: 130.052444\n",
      "Train Epoch: 7 [48000/60000 (80%)]\tLoss: 126.369286\n",
      "====> Epoch: 7 Average loss: 127.7944\n",
      "Train Epoch: 8 [0/60000 (0%)]\tLoss: 127.497429\n",
      "Train Epoch: 8 [12000/60000 (20%)]\tLoss: 124.193436\n",
      "Train Epoch: 8 [24000/60000 (40%)]\tLoss: 124.477249\n",
      "Train Epoch: 8 [36000/60000 (60%)]\tLoss: 126.167824\n",
      "Train Epoch: 8 [48000/60000 (80%)]\tLoss: 124.408363\n",
      "====> Epoch: 8 Average loss: 124.9271\n",
      "Train Epoch: 9 [0/60000 (0%)]\tLoss: 121.864845\n",
      "Train Epoch: 9 [12000/60000 (20%)]\tLoss: 120.650017\n",
      "Train Epoch: 9 [24000/60000 (40%)]\tLoss: 118.843796\n",
      "Train Epoch: 9 [36000/60000 (60%)]\tLoss: 121.871872\n",
      "Train Epoch: 9 [48000/60000 (80%)]\tLoss: 121.571045\n",
      "====> Epoch: 9 Average loss: 122.5673\n",
      "Train Epoch: 10 [0/60000 (0%)]\tLoss: 127.931313\n",
      "Train Epoch: 10 [12000/60000 (20%)]\tLoss: 123.621147\n",
      "Train Epoch: 10 [24000/60000 (40%)]\tLoss: 119.833107\n",
      "Train Epoch: 10 [36000/60000 (60%)]\tLoss: 114.540863\n",
      "Train Epoch: 10 [48000/60000 (80%)]\tLoss: 118.989517\n",
      "====> Epoch: 10 Average loss: 120.6853\n"
     ]
    }
   ],
   "source": [
    "from torchvision import datasets, transforms\n",
    "from torch import nn, optim\n",
    "\n",
    "# Load data\n",
    "train_data = datasets.MNIST('../data', train=True, download=True,\n",
    "                   transform=transforms.ToTensor())\n",
    "\n",
    "train_loader = torch.utils.data.DataLoader(train_data,\n",
    "                                           batch_size=batch_size, shuffle=True, **{})\n",
    "\n",
    "# Init model\n",
    "VAE_MNIST = VAE(fc1_dims=fc1_dims, fc21_dims=fc21_dims, fc22_dims=fc22_dims, fc3_dims=fc3_dims, fc4_dims=fc4_dims)\n",
    "\n",
    "# Init optimizer\n",
    "optimizer = optim.Adam(VAE_MNIST.parameters(), lr=lr)\n",
    "\n",
    "# Train\n",
    "for epoch in range(1, epochs + 1):\n",
    "    train(epoch, train_loader, VAE_MNIST, optimizer)\n"
   ]
  },
  {
   "cell_type": "markdown",
   "metadata": {
    "deletable": false,
    "editable": false,
    "nbgrader": {
     "cell_type": "markdown",
     "checksum": "e2f8fcc9384e30cb154cf931f223898b",
     "grade": false,
     "grade_id": "cell-bd07c058c661b9c6",
     "locked": true,
     "schema_version": 3,
     "solution": false
    }
   },
   "source": [
    "Run the box below to check if the model you trained above is able to correctly reconstruct images."
   ]
  },
  {
   "cell_type": "code",
   "execution_count": 35,
   "metadata": {
    "deletable": false,
    "editable": false,
    "nbgrader": {
     "cell_type": "code",
     "checksum": "80d198e03b1287741d761a12e38dcf73",
     "grade": false,
     "grade_id": "cell-df03d717307a6863",
     "locked": true,
     "schema_version": 3,
     "solution": false
    }
   },
   "outputs": [
    {
     "data": {
      "image/png": "[encoded data removed]",
      "text/plain": [
       "<Figure size 432x288 with 1 Axes>"
      ]
     },
     "metadata": {
      "needs_background": "light"
     },
     "output_type": "display_data"
    },
    {
     "data": {
      "image/png": "[encoded data removed]",
      "text/plain": [
       "<Figure size 432x288 with 1 Axes>"
      ]
     },
     "metadata": {
      "needs_background": "light"
     },
     "output_type": "display_data"
    },
    {
     "data": {
      "image/png": "[encoded data removed]",
      "text/plain": [
       "<Figure size 432x288 with 1 Axes>"
      ]
     },
     "metadata": {
      "needs_background": "light"
     },
     "output_type": "display_data"
    },
    {
     "data": {
      "image/png": "[encoded data removed]",
      "text/plain": [
       "<Figure size 432x288 with 1 Axes>"
      ]
     },
     "metadata": {
      "needs_background": "light"
     },
     "output_type": "display_data"
    }
   ],
   "source": [
    "### Let's check if the reconstructions make sense\n",
    "# Set model to test mode\n",
    "VAE_MNIST.eval()\n",
    "    \n",
    "# Reconstructed\n",
    "train_data_plot = datasets.MNIST('../data', train=True, download=True,\n",
    "                   transform=transforms.ToTensor())\n",
    "\n",
    "train_loader_plot = torch.utils.data.DataLoader(train_data_plot,\n",
    "                                           batch_size=1, shuffle=False, **{})\n",
    "\n",
    "for batch_idx, (data, _) in enumerate(train_loader_plot):\n",
    "    x_hat, mu, logvar = VAE_MNIST(data)\n",
    "    plt.imshow(x_hat.view(1,28,28).squeeze().data.numpy(), cmap='gray')\n",
    "    plt.title('%i' % train_data.train_labels[batch_idx])\n",
    "    plt.show()\n",
    "    if batch_idx == 3:\n",
    "        break\n"
   ]
  },
  {
   "cell_type": "markdown",
   "metadata": {
    "deletable": false,
    "editable": false,
    "nbgrader": {
     "cell_type": "markdown",
     "checksum": "7f559122b150f5f1228d6b66b62f462c",
     "grade": false,
     "grade_id": "cell-76649d51fdf133dc",
     "locked": true,
     "schema_version": 3,
     "solution": false
    }
   },
   "source": [
    "### 2.8 Visualize latent space (20 points)\n",
    "Now, implement the auto-encoder now with a 2-dimensional latent space, and train again over the MNIST data. Make a visualization of the learned manifold by using a linearly spaced coordinate grid as input for the latent space, as seen in  https://arxiv.org/abs/1312.6114 Figure 4."
   ]
  },
  {
   "cell_type": "code",
   "execution_count": 36,
   "metadata": {
    "deletable": false,
    "nbgrader": {
     "cell_type": "code",
     "checksum": "c879ffdb0d355349d7144a33d16ca93a",
     "grade": true,
     "grade_id": "cell-4a0af6d08d055bee",
     "locked": false,
     "points": 20,
     "schema_version": 3,
     "solution": true
    }
   },
   "outputs": [
    {
     "name": "stdout",
     "output_type": "stream",
     "text": [
      "Train Epoch: 1 [0/60000 (0%)]\tLoss: 551.562500\n",
      "Train Epoch: 1 [12800/60000 (21%)]\tLoss: 263.747467\n",
      "Train Epoch: 1 [25600/60000 (43%)]\tLoss: 238.770248\n",
      "Train Epoch: 1 [38400/60000 (64%)]\tLoss: 221.702301\n",
      "Train Epoch: 1 [51200/60000 (85%)]\tLoss: 223.060852\n",
      "====> Epoch: 1 Average loss: 264.5905\n",
      "Train Epoch: 2 [0/60000 (0%)]\tLoss: 208.024170\n",
      "Train Epoch: 2 [12800/60000 (21%)]\tLoss: 211.439774\n",
      "Train Epoch: 2 [25600/60000 (43%)]\tLoss: 202.066025\n",
      "Train Epoch: 2 [38400/60000 (64%)]\tLoss: 198.744766\n",
      "Train Epoch: 2 [51200/60000 (85%)]\tLoss: 193.100998\n",
      "====> Epoch: 2 Average loss: 199.6053\n",
      "Train Epoch: 3 [0/60000 (0%)]\tLoss: 190.765076\n",
      "Train Epoch: 3 [12800/60000 (21%)]\tLoss: 192.474442\n",
      "Train Epoch: 3 [25600/60000 (43%)]\tLoss: 187.244492\n",
      "Train Epoch: 3 [38400/60000 (64%)]\tLoss: 187.458191\n",
      "Train Epoch: 3 [51200/60000 (85%)]\tLoss: 190.158081\n",
      "====> Epoch: 3 Average loss: 190.6890\n",
      "Train Epoch: 4 [0/60000 (0%)]\tLoss: 187.374985\n",
      "Train Epoch: 4 [12800/60000 (21%)]\tLoss: 180.420563\n",
      "Train Epoch: 4 [25600/60000 (43%)]\tLoss: 188.807617\n",
      "Train Epoch: 4 [38400/60000 (64%)]\tLoss: 187.241302\n",
      "Train Epoch: 4 [51200/60000 (85%)]\tLoss: 185.843384\n",
      "====> Epoch: 4 Average loss: 185.7557\n",
      "Train Epoch: 5 [0/60000 (0%)]\tLoss: 178.010010\n",
      "Train Epoch: 5 [12800/60000 (21%)]\tLoss: 180.615494\n",
      "Train Epoch: 5 [25600/60000 (43%)]\tLoss: 186.501984\n",
      "Train Epoch: 5 [38400/60000 (64%)]\tLoss: 182.561722\n",
      "Train Epoch: 5 [51200/60000 (85%)]\tLoss: 176.204254\n",
      "====> Epoch: 5 Average loss: 182.3810\n",
      "Train Epoch: 6 [0/60000 (0%)]\tLoss: 184.070938\n",
      "Train Epoch: 6 [12800/60000 (21%)]\tLoss: 186.254715\n",
      "Train Epoch: 6 [25600/60000 (43%)]\tLoss: 174.112152\n",
      "Train Epoch: 6 [38400/60000 (64%)]\tLoss: 181.852188\n",
      "Train Epoch: 6 [51200/60000 (85%)]\tLoss: 178.781525\n",
      "====> Epoch: 6 Average loss: 179.9251\n",
      "Train Epoch: 7 [0/60000 (0%)]\tLoss: 185.035431\n",
      "Train Epoch: 7 [12800/60000 (21%)]\tLoss: 179.148438\n",
      "Train Epoch: 7 [25600/60000 (43%)]\tLoss: 170.358719\n",
      "Train Epoch: 7 [38400/60000 (64%)]\tLoss: 168.970840\n",
      "Train Epoch: 7 [51200/60000 (85%)]\tLoss: 173.702774\n",
      "====> Epoch: 7 Average loss: 177.9628\n",
      "Train Epoch: 8 [0/60000 (0%)]\tLoss: 171.521820\n",
      "Train Epoch: 8 [12800/60000 (21%)]\tLoss: 171.705261\n",
      "Train Epoch: 8 [25600/60000 (43%)]\tLoss: 178.153992\n",
      "Train Epoch: 8 [38400/60000 (64%)]\tLoss: 172.498566\n",
      "Train Epoch: 8 [51200/60000 (85%)]\tLoss: 174.557022\n",
      "====> Epoch: 8 Average loss: 176.2270\n",
      "Train Epoch: 9 [0/60000 (0%)]\tLoss: 173.551559\n",
      "Train Epoch: 9 [12800/60000 (21%)]\tLoss: 172.849670\n",
      "Train Epoch: 9 [25600/60000 (43%)]\tLoss: 174.010452\n",
      "Train Epoch: 9 [38400/60000 (64%)]\tLoss: 174.835938\n",
      "Train Epoch: 9 [51200/60000 (85%)]\tLoss: 183.921448\n",
      "====> Epoch: 9 Average loss: 174.4494\n",
      "Train Epoch: 10 [0/60000 (0%)]\tLoss: 169.704361\n",
      "Train Epoch: 10 [12800/60000 (21%)]\tLoss: 183.385513\n",
      "Train Epoch: 10 [25600/60000 (43%)]\tLoss: 163.904984\n",
      "Train Epoch: 10 [38400/60000 (64%)]\tLoss: 171.295914\n",
      "Train Epoch: 10 [51200/60000 (85%)]\tLoss: 172.903488\n",
      "====> Epoch: 10 Average loss: 172.6839\n"
     ]
    }
   ],
   "source": [
    "fc1_dims = (784, 256)\n",
    "fc21_dims = (256, 2)\n",
    "fc22_dims = (256, 2)\n",
    "fc3_dims = (2, 256)\n",
    "fc4_dims = (256, 784)\n",
    "lr = 1e-4\n",
    "batch_size = 128\n",
    "epochs = 10\n",
    "\n",
    "# Load data\n",
    "train_data = datasets.MNIST('../data', train=True, download=True,\n",
    "                   transform=transforms.ToTensor())\n",
    "\n",
    "train_loader = torch.utils.data.DataLoader(train_data,\n",
    "                                           batch_size=batch_size, shuffle=True, **{})\n",
    "\n",
    "# Init model\n",
    "VAE_MNIST = VAE(fc1_dims=fc1_dims,\n",
    "                fc21_dims=fc21_dims,\n",
    "                fc22_dims=fc22_dims,\n",
    "                fc3_dims=fc3_dims,\n",
    "                fc4_dims=fc4_dims)\n",
    "\n",
    "# Init optimizer\n",
    "optimizer = optim.Adam(VAE_MNIST.parameters(), lr=lr)\n",
    "\n",
    "# Train\n",
    "for epoch in range(1, epochs + 1):\n",
    "    train(epoch, train_loader, VAE_MNIST, optimizer)"
   ]
  },
  {
   "cell_type": "markdown",
   "metadata": {
    "deletable": false,
    "editable": false,
    "nbgrader": {
     "cell_type": "markdown",
     "checksum": "b9eb1684d646eea84a25638d184bfbda",
     "grade": false,
     "grade_id": "cell-dc5e1247a1e21009",
     "locked": true,
     "schema_version": 3,
     "solution": false
    }
   },
   "source": [
    "### 2.8 Amortized inference (10 points)\n",
    "What is amortized inference? Where in the code of Part 2 is it used? What is the benefit of using it?\n"
   ]
  },
  {
   "cell_type": "markdown",
   "metadata": {
    "deletable": false,
    "nbgrader": {
     "cell_type": "markdown",
     "checksum": "364ed922da59070f319d0bdfb0e41d92",
     "grade": true,
     "grade_id": "cell-6f7808a9b0098dbf",
     "locked": false,
     "points": 10,
     "schema_version": 3,
     "solution": true
    }
   },
   "source": []
  }
 ],
 "metadata": {
  "kernelspec": {
   "display_name": "Python 3",
   "language": "python",
   "name": "python3"
  },
  "language_info": {
   "codemirror_mode": {
    "name": "ipython",
    "version": 3
   },
   "file_extension": ".py",
   "mimetype": "text/x-python",
   "name": "python",
   "nbconvert_exporter": "python",
   "pygments_lexer": "ipython3",
   "version": "3.7.3"
  }
 },
 "nbformat": 4,
 "nbformat_minor": 2
}
